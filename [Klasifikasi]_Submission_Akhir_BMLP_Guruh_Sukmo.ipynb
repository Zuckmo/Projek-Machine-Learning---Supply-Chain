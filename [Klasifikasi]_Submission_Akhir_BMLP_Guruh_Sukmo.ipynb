{
  "nbformat": 4,
  "nbformat_minor": 0,
  "metadata": {
    "colab": {
      "provenance": [],
      "toc_visible": true
    },
    "kernelspec": {
      "name": "python3",
      "display_name": "Python 3"
    },
    "language_info": {
      "name": "python"
    }
  },
  "cells": [
    {
      "cell_type": "markdown",
      "source": [
        "# **1. Import Library**"
      ],
      "metadata": {
        "id": "fKADPWcFKlj3"
      }
    },
    {
      "cell_type": "markdown",
      "source": [
        "Pada tahap ini, Anda perlu mengimpor beberapa pustaka (library) Python yang dibutuhkan untuk analisis data dan pembangunan model machine learning."
      ],
      "metadata": {
        "id": "LgA3ERnVn84N"
      }
    },
    {
      "cell_type": "code",
      "source": [
        "import pandas as pd\n",
        "import numpy as np\n",
        "import matplotlib.pyplot as plt\n",
        "import seaborn as sns\n",
        "from sklearn.model_selection import train_test_split, GridSearchCV, RandomizedSearchCV\n",
        "from sklearn.metrics import accuracy_score, f1_score, precision_score, recall_score, confusion_matrix, classification_report\n",
        "from sklearn.ensemble import RandomForestClassifier\n",
        "from sklearn.linear_model import LogisticRegression\n",
        "from sklearn.tree import DecisionTreeClassifier\n",
        "from sklearn.neighbors import KNeighborsClassifier"
      ],
      "metadata": {
        "id": "5XHNam1bzyC0"
      },
      "execution_count": 36,
      "outputs": []
    },
    {
      "cell_type": "markdown",
      "source": [
        "# **2. Memuat Dataset dari Hasil Clustering**"
      ],
      "metadata": {
        "id": "f3YIEnAFKrKL"
      }
    },
    {
      "cell_type": "markdown",
      "source": [
        "Memuat dataset hasil clustering dari file CSV ke dalam variabel DataFrame."
      ],
      "metadata": {
        "id": "Ey3ItwTen_7E"
      }
    },
    {
      "cell_type": "code",
      "source": [
        "try:\n",
        "    df = pd.read_csv(\"https://raw.githubusercontent.com/Zuckmo/Projek-Machine-Learning---Supply-Chain/refs/heads/master/Dataset%20Inisiasi.csv\", encoding='utf-8')\n",
        "except UnicodeDecodeError:\n",
        "    df = pd.read_csv(\"https://raw.githubusercontent.com/Zuckmo/Projek-Machine-Learning---Supply-Chain/refs/heads/master/Dataset%20Inisiasi.csv\", encoding='latin-1')\n",
        "\n",
        "df.head()\n",
        "df.info()\n",
        "df.describe(include=\"all\")"
      ],
      "metadata": {
        "id": "GHCGNTyrM5fS",
        "colab": {
          "base_uri": "https://localhost:8080/",
          "height": 692
        },
        "outputId": "c071962f-744f-4be5-d858-2a590f087fb8"
      },
      "execution_count": 37,
      "outputs": [
        {
          "output_type": "stream",
          "name": "stdout",
          "text": [
            "<class 'pandas.core.frame.DataFrame'>\n",
            "RangeIndex: 154733 entries, 0 to 154732\n",
            "Data columns (total 7 columns):\n",
            " #   Column             Non-Null Count   Dtype  \n",
            "---  ------             --------------   -----  \n",
            " 0   Benefit per order  154733 non-null  float64\n",
            " 1   Sales              154733 non-null  float64\n",
            " 2   Customer Country   154733 non-null  object \n",
            " 3   Customer Segment   154733 non-null  object \n",
            " 4   Department Name    154733 non-null  object \n",
            " 5   Shipping Mode      154733 non-null  object \n",
            " 6   Cluster            154733 non-null  int64  \n",
            "dtypes: float64(2), int64(1), object(4)\n",
            "memory usage: 8.3+ MB\n"
          ]
        },
        {
          "output_type": "execute_result",
          "data": {
            "text/plain": [
              "        Benefit per order          Sales Customer Country Customer Segment  \\\n",
              "count       154733.000000  154733.000000           154733           154733   \n",
              "unique                NaN            NaN                2                3   \n",
              "top                   NaN            NaN          EE. UU.         Consumer   \n",
              "freq                  NaN            NaN            95328            80049   \n",
              "mean            40.790148     187.905325              NaN              NaN   \n",
              "std             40.063303     102.353092              NaN              NaN   \n",
              "min            -71.059998       9.990000              NaN              NaN   \n",
              "25%             13.040000     119.980003              NaN              NaN   \n",
              "50%             35.189999     179.970001              NaN              NaN   \n",
              "75%             64.800003     250.000000              NaN              NaN   \n",
              "max            154.429993     400.000000              NaN              NaN   \n",
              "\n",
              "       Department Name   Shipping Mode        Cluster  \n",
              "count           154733          154733  154733.000000  \n",
              "unique              11               4            NaN  \n",
              "top           Fan Shop  Standard Class            NaN  \n",
              "freq             56876           92371            NaN  \n",
              "mean               NaN             NaN       2.574939  \n",
              "std                NaN             NaN       1.399491  \n",
              "min                NaN             NaN       0.000000  \n",
              "25%                NaN             NaN       2.000000  \n",
              "50%                NaN             NaN       3.000000  \n",
              "75%                NaN             NaN       4.000000  \n",
              "max                NaN             NaN       5.000000  "
            ],
            "text/html": [
              "\n",
              "  <div id=\"df-a9ca73a4-90b4-46e8-8c9f-938afa1f1921\" class=\"colab-df-container\">\n",
              "    <div>\n",
              "<style scoped>\n",
              "    .dataframe tbody tr th:only-of-type {\n",
              "        vertical-align: middle;\n",
              "    }\n",
              "\n",
              "    .dataframe tbody tr th {\n",
              "        vertical-align: top;\n",
              "    }\n",
              "\n",
              "    .dataframe thead th {\n",
              "        text-align: right;\n",
              "    }\n",
              "</style>\n",
              "<table border=\"1\" class=\"dataframe\">\n",
              "  <thead>\n",
              "    <tr style=\"text-align: right;\">\n",
              "      <th></th>\n",
              "      <th>Benefit per order</th>\n",
              "      <th>Sales</th>\n",
              "      <th>Customer Country</th>\n",
              "      <th>Customer Segment</th>\n",
              "      <th>Department Name</th>\n",
              "      <th>Shipping Mode</th>\n",
              "      <th>Cluster</th>\n",
              "    </tr>\n",
              "  </thead>\n",
              "  <tbody>\n",
              "    <tr>\n",
              "      <th>count</th>\n",
              "      <td>154733.000000</td>\n",
              "      <td>154733.000000</td>\n",
              "      <td>154733</td>\n",
              "      <td>154733</td>\n",
              "      <td>154733</td>\n",
              "      <td>154733</td>\n",
              "      <td>154733.000000</td>\n",
              "    </tr>\n",
              "    <tr>\n",
              "      <th>unique</th>\n",
              "      <td>NaN</td>\n",
              "      <td>NaN</td>\n",
              "      <td>2</td>\n",
              "      <td>3</td>\n",
              "      <td>11</td>\n",
              "      <td>4</td>\n",
              "      <td>NaN</td>\n",
              "    </tr>\n",
              "    <tr>\n",
              "      <th>top</th>\n",
              "      <td>NaN</td>\n",
              "      <td>NaN</td>\n",
              "      <td>EE. UU.</td>\n",
              "      <td>Consumer</td>\n",
              "      <td>Fan Shop</td>\n",
              "      <td>Standard Class</td>\n",
              "      <td>NaN</td>\n",
              "    </tr>\n",
              "    <tr>\n",
              "      <th>freq</th>\n",
              "      <td>NaN</td>\n",
              "      <td>NaN</td>\n",
              "      <td>95328</td>\n",
              "      <td>80049</td>\n",
              "      <td>56876</td>\n",
              "      <td>92371</td>\n",
              "      <td>NaN</td>\n",
              "    </tr>\n",
              "    <tr>\n",
              "      <th>mean</th>\n",
              "      <td>40.790148</td>\n",
              "      <td>187.905325</td>\n",
              "      <td>NaN</td>\n",
              "      <td>NaN</td>\n",
              "      <td>NaN</td>\n",
              "      <td>NaN</td>\n",
              "      <td>2.574939</td>\n",
              "    </tr>\n",
              "    <tr>\n",
              "      <th>std</th>\n",
              "      <td>40.063303</td>\n",
              "      <td>102.353092</td>\n",
              "      <td>NaN</td>\n",
              "      <td>NaN</td>\n",
              "      <td>NaN</td>\n",
              "      <td>NaN</td>\n",
              "      <td>1.399491</td>\n",
              "    </tr>\n",
              "    <tr>\n",
              "      <th>min</th>\n",
              "      <td>-71.059998</td>\n",
              "      <td>9.990000</td>\n",
              "      <td>NaN</td>\n",
              "      <td>NaN</td>\n",
              "      <td>NaN</td>\n",
              "      <td>NaN</td>\n",
              "      <td>0.000000</td>\n",
              "    </tr>\n",
              "    <tr>\n",
              "      <th>25%</th>\n",
              "      <td>13.040000</td>\n",
              "      <td>119.980003</td>\n",
              "      <td>NaN</td>\n",
              "      <td>NaN</td>\n",
              "      <td>NaN</td>\n",
              "      <td>NaN</td>\n",
              "      <td>2.000000</td>\n",
              "    </tr>\n",
              "    <tr>\n",
              "      <th>50%</th>\n",
              "      <td>35.189999</td>\n",
              "      <td>179.970001</td>\n",
              "      <td>NaN</td>\n",
              "      <td>NaN</td>\n",
              "      <td>NaN</td>\n",
              "      <td>NaN</td>\n",
              "      <td>3.000000</td>\n",
              "    </tr>\n",
              "    <tr>\n",
              "      <th>75%</th>\n",
              "      <td>64.800003</td>\n",
              "      <td>250.000000</td>\n",
              "      <td>NaN</td>\n",
              "      <td>NaN</td>\n",
              "      <td>NaN</td>\n",
              "      <td>NaN</td>\n",
              "      <td>4.000000</td>\n",
              "    </tr>\n",
              "    <tr>\n",
              "      <th>max</th>\n",
              "      <td>154.429993</td>\n",
              "      <td>400.000000</td>\n",
              "      <td>NaN</td>\n",
              "      <td>NaN</td>\n",
              "      <td>NaN</td>\n",
              "      <td>NaN</td>\n",
              "      <td>5.000000</td>\n",
              "    </tr>\n",
              "  </tbody>\n",
              "</table>\n",
              "</div>\n",
              "    <div class=\"colab-df-buttons\">\n",
              "      \n",
              "  <div class=\"colab-df-container\">\n",
              "    <button class=\"colab-df-convert\" onclick=\"convertToInteractive('df-a9ca73a4-90b4-46e8-8c9f-938afa1f1921')\"\n",
              "            title=\"Convert this dataframe to an interactive table.\"\n",
              "            style=\"display:none;\">\n",
              "      \n",
              "  <svg xmlns=\"http://www.w3.org/2000/svg\" height=\"24px\" viewBox=\"0 -960 960 960\">\n",
              "    <path d=\"M120-120v-720h720v720H120Zm60-500h600v-160H180v160Zm220 220h160v-160H400v160Zm0 220h160v-160H400v160ZM180-400h160v-160H180v160Zm440 0h160v-160H620v160ZM180-180h160v-160H180v160Zm440 0h160v-160H620v160Z\"/>\n",
              "  </svg>\n",
              "    </button>\n",
              "    \n",
              "  <style>\n",
              "    .colab-df-container {\n",
              "      display:flex;\n",
              "      gap: 12px;\n",
              "    }\n",
              "\n",
              "    .colab-df-convert {\n",
              "      background-color: #E8F0FE;\n",
              "      border: none;\n",
              "      border-radius: 50%;\n",
              "      cursor: pointer;\n",
              "      display: none;\n",
              "      fill: #1967D2;\n",
              "      height: 32px;\n",
              "      padding: 0 0 0 0;\n",
              "      width: 32px;\n",
              "    }\n",
              "\n",
              "    .colab-df-convert:hover {\n",
              "      background-color: #E2EBFA;\n",
              "      box-shadow: 0px 1px 2px rgba(60, 64, 67, 0.3), 0px 1px 3px 1px rgba(60, 64, 67, 0.15);\n",
              "      fill: #174EA6;\n",
              "    }\n",
              "\n",
              "    .colab-df-buttons div {\n",
              "      margin-bottom: 4px;\n",
              "    }\n",
              "\n",
              "    [theme=dark] .colab-df-convert {\n",
              "      background-color: #3B4455;\n",
              "      fill: #D2E3FC;\n",
              "    }\n",
              "\n",
              "    [theme=dark] .colab-df-convert:hover {\n",
              "      background-color: #434B5C;\n",
              "      box-shadow: 0px 1px 3px 1px rgba(0, 0, 0, 0.15);\n",
              "      filter: drop-shadow(0px 1px 2px rgba(0, 0, 0, 0.3));\n",
              "      fill: #FFFFFF;\n",
              "    }\n",
              "  </style>\n",
              "\n",
              "    <script>\n",
              "      const buttonEl =\n",
              "        document.querySelector('#df-a9ca73a4-90b4-46e8-8c9f-938afa1f1921 button.colab-df-convert');\n",
              "      buttonEl.style.display =\n",
              "        google.colab.kernel.accessAllowed ? 'block' : 'none';\n",
              "\n",
              "      async function convertToInteractive(key) {\n",
              "        const element = document.querySelector('#df-a9ca73a4-90b4-46e8-8c9f-938afa1f1921');\n",
              "        const dataTable =\n",
              "          await google.colab.kernel.invokeFunction('convertToInteractive',\n",
              "                                                    [key], {});\n",
              "        if (!dataTable) return;\n",
              "\n",
              "        const docLinkHtml = 'Like what you see? Visit the ' +\n",
              "          '<a target=\"_blank\" href=https://colab.research.google.com/notebooks/data_table.ipynb>data table notebook</a>'\n",
              "          + ' to learn more about interactive tables.';\n",
              "        element.innerHTML = '';\n",
              "        dataTable['output_type'] = 'display_data';\n",
              "        await google.colab.output.renderOutput(dataTable, element);\n",
              "        const docLink = document.createElement('div');\n",
              "        docLink.innerHTML = docLinkHtml;\n",
              "        element.appendChild(docLink);\n",
              "      }\n",
              "    </script>\n",
              "  </div>\n",
              "  \n",
              "    </div>\n",
              "  </div>\n",
              "  "
            ],
            "application/vnd.google.colaboratory.intrinsic+json": {
              "type": "dataframe",
              "summary": "{\n  \"name\": \"df\",\n  \"rows\": 11,\n  \"fields\": [\n    {\n      \"column\": \"Benefit per order\",\n      \"properties\": {\n        \"dtype\": \"number\",\n        \"std\": 54692.40836480102,\n        \"min\": -71.05999756,\n        \"max\": 154733.0,\n        \"num_unique_values\": 8,\n        \"samples\": [\n          40.79014845052548,\n          35.18999863,\n          154733.0\n        ],\n        \"semantic_type\": \"\",\n        \"description\": \"\"\n      }\n    },\n    {\n      \"column\": \"Sales\",\n      \"properties\": {\n        \"dtype\": \"number\",\n        \"std\": 54643.352339185,\n        \"min\": 9.989999771,\n        \"max\": 154733.0,\n        \"num_unique_values\": 8,\n        \"samples\": [\n          187.90532520974054,\n          179.9700012,\n          154733.0\n        ],\n        \"semantic_type\": \"\",\n        \"description\": \"\"\n      }\n    },\n    {\n      \"column\": \"Customer Country\",\n      \"properties\": {\n        \"dtype\": \"category\",\n        \"num_unique_values\": 4,\n        \"samples\": [\n          2,\n          \"95328\",\n          \"154733\"\n        ],\n        \"semantic_type\": \"\",\n        \"description\": \"\"\n      }\n    },\n    {\n      \"column\": \"Customer Segment\",\n      \"properties\": {\n        \"dtype\": \"category\",\n        \"num_unique_values\": 4,\n        \"samples\": [\n          3,\n          \"80049\",\n          \"154733\"\n        ],\n        \"semantic_type\": \"\",\n        \"description\": \"\"\n      }\n    },\n    {\n      \"column\": \"Department Name\",\n      \"properties\": {\n        \"dtype\": \"category\",\n        \"num_unique_values\": 4,\n        \"samples\": [\n          11,\n          \"56876\",\n          \"154733\"\n        ],\n        \"semantic_type\": \"\",\n        \"description\": \"\"\n      }\n    },\n    {\n      \"column\": \"Shipping Mode\",\n      \"properties\": {\n        \"dtype\": \"category\",\n        \"num_unique_values\": 4,\n        \"samples\": [\n          4,\n          \"92371\",\n          \"154733\"\n        ],\n        \"semantic_type\": \"\",\n        \"description\": \"\"\n      }\n    },\n    {\n      \"column\": \"Cluster\",\n      \"properties\": {\n        \"dtype\": \"number\",\n        \"std\": 54705.46896232216,\n        \"min\": 0.0,\n        \"max\": 154733.0,\n        \"num_unique_values\": 8,\n        \"samples\": [\n          2.574938765486354,\n          3.0,\n          154733.0\n        ],\n        \"semantic_type\": \"\",\n        \"description\": \"\"\n      }\n    }\n  ]\n}"
            }
          },
          "metadata": {},
          "execution_count": 37
        }
      ]
    },
    {
      "cell_type": "code",
      "source": [
        "df.head()"
      ],
      "metadata": {
        "colab": {
          "base_uri": "https://localhost:8080/",
          "height": 310
        },
        "id": "P0c9pB3xIJR9",
        "outputId": "b0238906-1b35-4dea-dd2a-6e894c70397d"
      },
      "execution_count": 38,
      "outputs": [
        {
          "output_type": "execute_result",
          "data": {
            "text/plain": [
              "   Benefit per order   Sales Customer Country Customer Segment  \\\n",
              "0          91.250000  327.75      Puerto Rico         Consumer   \n",
              "1          22.860001  327.75          EE. UU.      Home Office   \n",
              "2         134.210007  327.75      Puerto Rico        Corporate   \n",
              "3          18.580000  327.75          EE. UU.         Consumer   \n",
              "4          95.180000  327.75      Puerto Rico      Home Office   \n",
              "\n",
              "  Department Name   Shipping Mode  Cluster  \n",
              "0         Fitness  Standard Class        2  \n",
              "1         Fitness  Standard Class        1  \n",
              "2         Fitness  Standard Class        0  \n",
              "3         Fitness  Standard Class        3  \n",
              "4         Fitness     First Class        5  "
            ],
            "text/html": [
              "\n",
              "  <div id=\"df-625b7268-3ee5-4c54-bc9f-3d66b62eb489\" class=\"colab-df-container\">\n",
              "    <div>\n",
              "<style scoped>\n",
              "    .dataframe tbody tr th:only-of-type {\n",
              "        vertical-align: middle;\n",
              "    }\n",
              "\n",
              "    .dataframe tbody tr th {\n",
              "        vertical-align: top;\n",
              "    }\n",
              "\n",
              "    .dataframe thead th {\n",
              "        text-align: right;\n",
              "    }\n",
              "</style>\n",
              "<table border=\"1\" class=\"dataframe\">\n",
              "  <thead>\n",
              "    <tr style=\"text-align: right;\">\n",
              "      <th></th>\n",
              "      <th>Benefit per order</th>\n",
              "      <th>Sales</th>\n",
              "      <th>Customer Country</th>\n",
              "      <th>Customer Segment</th>\n",
              "      <th>Department Name</th>\n",
              "      <th>Shipping Mode</th>\n",
              "      <th>Cluster</th>\n",
              "    </tr>\n",
              "  </thead>\n",
              "  <tbody>\n",
              "    <tr>\n",
              "      <th>0</th>\n",
              "      <td>91.250000</td>\n",
              "      <td>327.75</td>\n",
              "      <td>Puerto Rico</td>\n",
              "      <td>Consumer</td>\n",
              "      <td>Fitness</td>\n",
              "      <td>Standard Class</td>\n",
              "      <td>2</td>\n",
              "    </tr>\n",
              "    <tr>\n",
              "      <th>1</th>\n",
              "      <td>22.860001</td>\n",
              "      <td>327.75</td>\n",
              "      <td>EE. UU.</td>\n",
              "      <td>Home Office</td>\n",
              "      <td>Fitness</td>\n",
              "      <td>Standard Class</td>\n",
              "      <td>1</td>\n",
              "    </tr>\n",
              "    <tr>\n",
              "      <th>2</th>\n",
              "      <td>134.210007</td>\n",
              "      <td>327.75</td>\n",
              "      <td>Puerto Rico</td>\n",
              "      <td>Corporate</td>\n",
              "      <td>Fitness</td>\n",
              "      <td>Standard Class</td>\n",
              "      <td>0</td>\n",
              "    </tr>\n",
              "    <tr>\n",
              "      <th>3</th>\n",
              "      <td>18.580000</td>\n",
              "      <td>327.75</td>\n",
              "      <td>EE. UU.</td>\n",
              "      <td>Consumer</td>\n",
              "      <td>Fitness</td>\n",
              "      <td>Standard Class</td>\n",
              "      <td>3</td>\n",
              "    </tr>\n",
              "    <tr>\n",
              "      <th>4</th>\n",
              "      <td>95.180000</td>\n",
              "      <td>327.75</td>\n",
              "      <td>Puerto Rico</td>\n",
              "      <td>Home Office</td>\n",
              "      <td>Fitness</td>\n",
              "      <td>First Class</td>\n",
              "      <td>5</td>\n",
              "    </tr>\n",
              "  </tbody>\n",
              "</table>\n",
              "</div>\n",
              "    <div class=\"colab-df-buttons\">\n",
              "      \n",
              "  <div class=\"colab-df-container\">\n",
              "    <button class=\"colab-df-convert\" onclick=\"convertToInteractive('df-625b7268-3ee5-4c54-bc9f-3d66b62eb489')\"\n",
              "            title=\"Convert this dataframe to an interactive table.\"\n",
              "            style=\"display:none;\">\n",
              "      \n",
              "  <svg xmlns=\"http://www.w3.org/2000/svg\" height=\"24px\" viewBox=\"0 -960 960 960\">\n",
              "    <path d=\"M120-120v-720h720v720H120Zm60-500h600v-160H180v160Zm220 220h160v-160H400v160Zm0 220h160v-160H400v160ZM180-400h160v-160H180v160Zm440 0h160v-160H620v160ZM180-180h160v-160H180v160Zm440 0h160v-160H620v160Z\"/>\n",
              "  </svg>\n",
              "    </button>\n",
              "    \n",
              "  <style>\n",
              "    .colab-df-container {\n",
              "      display:flex;\n",
              "      gap: 12px;\n",
              "    }\n",
              "\n",
              "    .colab-df-convert {\n",
              "      background-color: #E8F0FE;\n",
              "      border: none;\n",
              "      border-radius: 50%;\n",
              "      cursor: pointer;\n",
              "      display: none;\n",
              "      fill: #1967D2;\n",
              "      height: 32px;\n",
              "      padding: 0 0 0 0;\n",
              "      width: 32px;\n",
              "    }\n",
              "\n",
              "    .colab-df-convert:hover {\n",
              "      background-color: #E2EBFA;\n",
              "      box-shadow: 0px 1px 2px rgba(60, 64, 67, 0.3), 0px 1px 3px 1px rgba(60, 64, 67, 0.15);\n",
              "      fill: #174EA6;\n",
              "    }\n",
              "\n",
              "    .colab-df-buttons div {\n",
              "      margin-bottom: 4px;\n",
              "    }\n",
              "\n",
              "    [theme=dark] .colab-df-convert {\n",
              "      background-color: #3B4455;\n",
              "      fill: #D2E3FC;\n",
              "    }\n",
              "\n",
              "    [theme=dark] .colab-df-convert:hover {\n",
              "      background-color: #434B5C;\n",
              "      box-shadow: 0px 1px 3px 1px rgba(0, 0, 0, 0.15);\n",
              "      filter: drop-shadow(0px 1px 2px rgba(0, 0, 0, 0.3));\n",
              "      fill: #FFFFFF;\n",
              "    }\n",
              "  </style>\n",
              "\n",
              "    <script>\n",
              "      const buttonEl =\n",
              "        document.querySelector('#df-625b7268-3ee5-4c54-bc9f-3d66b62eb489 button.colab-df-convert');\n",
              "      buttonEl.style.display =\n",
              "        google.colab.kernel.accessAllowed ? 'block' : 'none';\n",
              "\n",
              "      async function convertToInteractive(key) {\n",
              "        const element = document.querySelector('#df-625b7268-3ee5-4c54-bc9f-3d66b62eb489');\n",
              "        const dataTable =\n",
              "          await google.colab.kernel.invokeFunction('convertToInteractive',\n",
              "                                                    [key], {});\n",
              "        if (!dataTable) return;\n",
              "\n",
              "        const docLinkHtml = 'Like what you see? Visit the ' +\n",
              "          '<a target=\"_blank\" href=https://colab.research.google.com/notebooks/data_table.ipynb>data table notebook</a>'\n",
              "          + ' to learn more about interactive tables.';\n",
              "        element.innerHTML = '';\n",
              "        dataTable['output_type'] = 'display_data';\n",
              "        await google.colab.output.renderOutput(dataTable, element);\n",
              "        const docLink = document.createElement('div');\n",
              "        docLink.innerHTML = docLinkHtml;\n",
              "        element.appendChild(docLink);\n",
              "      }\n",
              "    </script>\n",
              "  </div>\n",
              "  \n",
              "    </div>\n",
              "  </div>\n",
              "  "
            ],
            "application/vnd.google.colaboratory.intrinsic+json": {
              "type": "dataframe",
              "variable_name": "df"
            }
          },
          "metadata": {},
          "execution_count": 38
        }
      ]
    },
    {
      "cell_type": "code",
      "source": [
        "from sklearn.preprocessing import MinMaxScaler\n",
        "df_encoded = pd.get_dummies(df, columns=[\"Customer Country\",\"Customer Segment\",\"Department Name\",\"Shipping Mode\"])\n"
      ],
      "metadata": {
        "id": "x510F1-p1rqO"
      },
      "execution_count": 39,
      "outputs": []
    },
    {
      "cell_type": "markdown",
      "source": [
        "# **3. Data Splitting**"
      ],
      "metadata": {
        "id": "KkPem5eWL2UP"
      }
    },
    {
      "cell_type": "markdown",
      "source": [
        "Tahap Data Splitting bertujuan untuk memisahkan dataset menjadi dua bagian: data latih (training set) dan data uji (test set)."
      ],
      "metadata": {
        "id": "YYj1rl_JNI9Y"
      }
    },
    {
      "cell_type": "code",
      "source": [
        "X = df_encoded.drop(columns=[\"Cluster\"])\n",
        "y = df_encoded[\"Cluster\"]\n",
        "\n"
      ],
      "metadata": {
        "id": "OubAW-7ONKVj"
      },
      "execution_count": 40,
      "outputs": []
    },
    {
      "cell_type": "code",
      "source": [
        "\n",
        "X_train, X_test, y_train, y_test = train_test_split(X, y, test_size=0.2, random_state=42)\n",
        "\n",
        "print(f\"jumlah data latih: {X_train.shape[0]}\")\n",
        "print(f\"jumlah data uji: {X_test.shape[0]}\")"
      ],
      "metadata": {
        "colab": {
          "base_uri": "https://localhost:8080/"
        },
        "id": "8s98NDFyMa42",
        "outputId": "9eb66ad8-265f-45e8-94ad-4d68e6c36127"
      },
      "execution_count": 41,
      "outputs": [
        {
          "output_type": "stream",
          "name": "stdout",
          "text": [
            "jumlah data latih: 123786\n",
            "jumlah data uji: 30947\n"
          ]
        }
      ]
    },
    {
      "cell_type": "markdown",
      "source": [
        "# **4. Membangun Model Klasifikasi**\n"
      ],
      "metadata": {
        "id": "IVPbB03CMhTT"
      }
    },
    {
      "cell_type": "markdown",
      "source": [
        "## **a. Membangun Model Klasifikasi**"
      ],
      "metadata": {
        "id": "Ned1pL9zMmBK"
      }
    },
    {
      "cell_type": "markdown",
      "source": [
        "Setelah memilih algoritma klasifikasi yang sesuai, langkah selanjutnya adalah melatih model menggunakan data latih.\n",
        "\n",
        "Berikut adalah rekomendasi tahapannya.\n",
        "1. Pilih algoritma klasifikasi yang sesuai, seperti Logistic Regression, Decision Tree, Random Forest, atau K-Nearest Neighbors (KNN).\n",
        "2. Latih model menggunakan data latih."
      ],
      "metadata": {
        "id": "WAWzPOE4Nkti"
      }
    },
    {
      "cell_type": "code",
      "source": [
        "dt = DecisionTreeClassifier(random_state=42)\n",
        "dt.fit(X_train, y_train)\n",
        "\n",
        "#prediksi\n",
        "y_pred_dt = dt.predict(X_test)\n",
        "\n",
        "#Evaluasi\n",
        "print(\"\\n=== Decission Tree ====\")\n",
        "print(\"Akurasi :\", accuracy_score(y_test, y_pred_dt))\n",
        "print(\"F1.score :\", f1_score(y_test, y_pred_dt, average=\"weighted\"))\n",
        "print(\"Classification Report :\\n\", classification_report(y_test, y_pred_dt))"
      ],
      "metadata": {
        "colab": {
          "base_uri": "https://localhost:8080/"
        },
        "id": "jJjblgZ-p7eg",
        "outputId": "342bd4b2-0885-467c-f2f8-96d348025398"
      },
      "execution_count": 42,
      "outputs": [
        {
          "output_type": "stream",
          "name": "stdout",
          "text": [
            "\n",
            "=== Decission Tree ====\n",
            "Akurasi : 1.0\n",
            "F1.score : 1.0\n",
            "Classification Report :\n",
            "               precision    recall  f1-score   support\n",
            "\n",
            "           0       1.00      1.00      1.00      3683\n",
            "           1       1.00      1.00      1.00      3314\n",
            "           2       1.00      1.00      1.00      6126\n",
            "           3       1.00      1.00      1.00      9993\n",
            "           4       1.00      1.00      1.00      5677\n",
            "           5       1.00      1.00      1.00      2154\n",
            "\n",
            "    accuracy                           1.00     30947\n",
            "   macro avg       1.00      1.00      1.00     30947\n",
            "weighted avg       1.00      1.00      1.00     30947\n",
            "\n"
          ]
        }
      ]
    },
    {
      "cell_type": "code",
      "source": [
        "knn = KNeighborsClassifier(n_neighbors=4)\n",
        "knn.fit(X_train, y_train)\n",
        "\n",
        "#prediksi\n",
        "y_pred_knn = knn.predict(X_test)\n",
        "#evaluasi\n",
        "print(\"\\n=== K-Nearest Neihbors ===\")\n",
        "print(\"\\nAkyrasi :\", accuracy_score(y_test, y_pred_knn))\n",
        "print(\"F1 Score :\", f1_score(y_test, y_pred_knn, average=\"weighted\"))\n",
        "print(\"Classification report :\", classification_report(y_test, y_pred_knn))\n",
        "\n"
      ],
      "metadata": {
        "colab": {
          "base_uri": "https://localhost:8080/"
        },
        "id": "8QkxzHu7rJzU",
        "outputId": "37306248-4ad9-4828-d6af-cc147d90b852"
      },
      "execution_count": 43,
      "outputs": [
        {
          "output_type": "stream",
          "name": "stdout",
          "text": [
            "\n",
            "=== K-Nearest Neihbors ===\n",
            "\n",
            "Akyrasi : 0.9491711636022878\n",
            "F1 Score : 0.9488530596944101\n",
            "Classification report :               precision    recall  f1-score   support\n",
            "\n",
            "           0       0.92      0.95      0.93      3683\n",
            "           1       0.94      0.92      0.93      3314\n",
            "           2       0.95      0.96      0.95      6126\n",
            "           3       0.95      0.98      0.96      9993\n",
            "           4       0.96      0.94      0.95      5677\n",
            "           5       0.98      0.83      0.90      2154\n",
            "\n",
            "    accuracy                           0.95     30947\n",
            "   macro avg       0.95      0.93      0.94     30947\n",
            "weighted avg       0.95      0.95      0.95     30947\n",
            "\n"
          ]
        }
      ]
    },
    {
      "cell_type": "markdown",
      "source": [
        "Tulis narasi atau penjelasan algoritma yang Anda gunakan."
      ],
      "metadata": {
        "id": "seYoHNY3XU1y"
      }
    },
    {
      "cell_type": "markdown",
      "source": [
        "## **b. Evaluasi Model Klasifikasi**"
      ],
      "metadata": {
        "id": "ergzChZFEL-O"
      }
    },
    {
      "cell_type": "markdown",
      "source": [
        "Berikut adalah **rekomendasi** tahapannya.\n",
        "1. Lakukan prediksi menggunakan data uji.\n",
        "2. Hitung metrik evaluasi seperti Accuracy dan F1-Score (Opsional: Precision dan Recall).\n",
        "3. Buat confusion matrix untuk melihat detail prediksi benar dan salah."
      ],
      "metadata": {
        "id": "zOm68u-7NpLT"
      }
    },
    {
      "cell_type": "markdown",
      "source": [
        "Tulis hasil evaluasi algoritma yang digunakan, jika Anda menggunakan 2 algoritma, maka bandingkan hasilnya."
      ],
      "metadata": {
        "id": "H4_9OwrsXZlz"
      }
    },
    {
      "cell_type": "code",
      "source": [
        "# evaluasi model Decission Tree\n",
        "print(\"\\n=== Evaluasi Decission Tree ===\")\n",
        "print(\"Akurasi :\", accuracy_score(y_test, y_pred_dt))\n",
        "print(\"F1 score :\", f1_score(y_test, y_pred_dt, average=\"weighted\"))\n",
        "print(\"precision :\", precision_score(y_test, y_pred_dt, average=\"weighted\"))\n",
        "print(\"recall :\", recall_score(y_test, y_pred_dt, average=\"weighted\"))\n",
        "print(\"confusion matrix :\\n\", confusion_matrix(y_test, y_pred_dt))\n",
        "print(\"Classification report:\", classification_report(y_test, y_pred_dt))\n",
        "\n",
        "# evaluasi model  KNN\n",
        "print(\"\\n=== K-Nearest Neighbors (KNN) ===\")\n",
        "print(\"Akurasi :\", accuracy_score(y_test, y_pred_knn))\n",
        "print(\"F1 score :\", f1_score(y_test, y_pred_knn, average=\"weighted\"))\n",
        "print(\"precision :\", precision_score(y_test, y_pred_knn, average=\"weighted\"))\n",
        "print(\"recall :\", recall_score(y_test, y_pred_knn, average=\"weighted\"))\n",
        "print(\"confusion matrix :\\n\", confusion_matrix(y_test, y_pred_knn))\n",
        "print(\"Classification report:\", classification_report(y_test, y_pred_knn))\n",
        "\n",
        "# visualisasi confusion matrix\n",
        "sns.heatmap(confusion_matrix(y_test, y_pred_dt), annot=True, fmt='d')\n",
        "plt.title('Confusion Matrix Decision Tree')\n",
        "plt.show()\n",
        "\n",
        "sns.heatmap(confusion_matrix(y_test, y_pred_knn), annot=True, fmt='d')\n",
        "plt.title('Confusion Matrix KNN')\n",
        "plt.show()"
      ],
      "metadata": {
        "colab": {
          "base_uri": "https://localhost:8080/",
          "height": 1000
        },
        "id": "7f0JonRt-a4X",
        "outputId": "bdbafc6e-4b19-4fc1-ca9d-8d2ed271c926"
      },
      "execution_count": 44,
      "outputs": [
        {
          "output_type": "stream",
          "name": "stdout",
          "text": [
            "\n",
            "=== Evaluasi Decission Tree ===\n",
            "Akurasi : 1.0\n",
            "F1 score : 1.0\n",
            "precision : 1.0\n",
            "recall : 1.0\n",
            "confusion matrix :\n",
            " [[3683    0    0    0    0    0]\n",
            " [   0 3314    0    0    0    0]\n",
            " [   0    0 6126    0    0    0]\n",
            " [   0    0    0 9993    0    0]\n",
            " [   0    0    0    0 5677    0]\n",
            " [   0    0    0    0    0 2154]]\n",
            "Classification report:               precision    recall  f1-score   support\n",
            "\n",
            "           0       1.00      1.00      1.00      3683\n",
            "           1       1.00      1.00      1.00      3314\n",
            "           2       1.00      1.00      1.00      6126\n",
            "           3       1.00      1.00      1.00      9993\n",
            "           4       1.00      1.00      1.00      5677\n",
            "           5       1.00      1.00      1.00      2154\n",
            "\n",
            "    accuracy                           1.00     30947\n",
            "   macro avg       1.00      1.00      1.00     30947\n",
            "weighted avg       1.00      1.00      1.00     30947\n",
            "\n",
            "\n",
            "=== K-Nearest Neighbors (KNN) ===\n",
            "Akurasi : 0.9491711636022878\n",
            "F1 score : 0.9488530596944101\n",
            "precision : 0.9496895927148838\n",
            "recall : 0.9491711636022878\n",
            "confusion matrix :\n",
            " [[3496    6   75   17   79   10]\n",
            " [  12 3065   13  155   64    5]\n",
            " [  71   15 5893  126   14    7]\n",
            " [  34   58   74 9786   36    5]\n",
            " [  86   43   12  192 5341    3]\n",
            " [  99   75  164   16    7 1793]]\n",
            "Classification report:               precision    recall  f1-score   support\n",
            "\n",
            "           0       0.92      0.95      0.93      3683\n",
            "           1       0.94      0.92      0.93      3314\n",
            "           2       0.95      0.96      0.95      6126\n",
            "           3       0.95      0.98      0.96      9993\n",
            "           4       0.96      0.94      0.95      5677\n",
            "           5       0.98      0.83      0.90      2154\n",
            "\n",
            "    accuracy                           0.95     30947\n",
            "   macro avg       0.95      0.93      0.94     30947\n",
            "weighted avg       0.95      0.95      0.95     30947\n",
            "\n"
          ]
        },
        {
          "output_type": "display_data",
          "data": {
            "text/plain": [
              "<Figure size 640x480 with 2 Axes>"
            ],
            "image/png": "[encoded data removed]"
          },
          "metadata": {}
        },
        {
          "output_type": "display_data",
          "data": {
            "text/plain": [
              "<Figure size 640x480 with 2 Axes>"
            ],
            "image/png": "[encoded data removed]"
          },
          "metadata": {}
        }
      ]
    },
    {
      "cell_type": "markdown",
      "source": [
        "\n",
        "\n",
        "Berdasarkan hasil evaluasi, Decision Tree dan K-Nearest Neighbors (KNN) menunjukkan performa yang berbeda.\n",
        "\n",
        "** Decision Tree:**\n",
        "\n",
        "Akurasi: 1.0\n",
        "F1-Score: 1.0\n",
        "Precision: 1.0\n",
        "Recall: 1.0\n",
        "\n",
        "---\n",
        "** K-Nearest Neighbors (KNN):**\n",
        "\n",
        "Akurasi: 0.94\n",
        "F1-Score: 0.94\n",
        "Precision: 0.94\n",
        "Recall: 0.94\n",
        "\n",
        "---\n",
        "** Analisis:**\n",
        "\n",
        "- Decision Tree memiliki akurasi, F1-Score, Precision, dan Recall yang lebih tinggi dibandingkan dengan KNN.\n",
        "\n",
        "- Model Decision Tree memiliki performa yang lebih baik secara keseluruhan.\n",
        "\n",
        "- Dari Classification Report, Decision Tree dan KNN menunjukkan performa yang baik dalam memprediksi setiap kelas.\n",
        "\n",
        "---\n",
        "** Kesimpulan:**\n",
        "\n",
        "- Berdasarkan hasil evaluasi, Decision Tree adalah model yang lebih baik untuk klasifikasi cluster pada dataset ini.\n",
        "\n",
        "- Model ini memiliki akurasi yang lebih tinggi dan menyeimbangkan presisi dan recall.\n",
        "\n"
      ],
      "metadata": {
        "id": "RByKe_ikQrri"
      }
    },
    {
      "cell_type": "markdown",
      "source": [
        "## **c. Tuning Model Klasifikasi (Optional)**"
      ],
      "metadata": {
        "id": "ph9yIYDXEPuB"
      }
    },
    {
      "cell_type": "markdown",
      "source": [
        "Gunakan GridSearchCV, RandomizedSearchCV, atau metode lainnya untuk mencari kombinasi hyperparameter terbaik"
      ],
      "metadata": {
        "id": "-Bikx3LINv5e"
      }
    },
    {
      "cell_type": "code",
      "source": [
        "# Tuning hyperparameter untuk KNN menggunakan GridSearchCV\n",
        "param_grid_knn = {\n",
        "    'n_neighbors': [3, 5, 7, 9],\n",
        "    'weights': ['uniform', 'distance'],\n",
        "    'metric': ['euclidean', 'manhattan']\n",
        "}\n",
        "\n",
        "grid_search_knn = GridSearchCV(estimator=KNeighborsClassifier(),\n",
        "                           param_grid=param_grid_knn,\n",
        "                           cv=5,\n",
        "                           scoring='accuracy')\n",
        "\n",
        "grid_search_knn.fit(X_train, y_train)\n",
        "\n",
        "print(\"\\nBest Hyperparameters KNN:\", grid_search_knn.best_params_)\n",
        "print(\"Best Accuracy KNN:\", grid_search_knn.best_score_)\n",
        "\n",
        "\n",
        "# Membangun model KNN dengan hyperparameter terbaik\n",
        "best_knn = KNeighborsClassifier(**grid_search_knn.best_params_)\n",
        "best_knn.fit(X_train, y_train)\n",
        "\n",
        "# Evaluasi model KNN dengan hyperparameter terbaik\n",
        "y_pred_best_knn = best_knn.predict(X_test)\n",
        "\n",
        "print(\"\\n=== KNN (Tuned) ===\")\n",
        "print(\"Akurasi:\", accuracy_score(y_test, y_pred_best_knn))\n",
        "print(\"F1-Score:\", f1_score(y_test, y_pred_best_knn, average='weighted'))\n",
        "print(\"Classification Report:\\n\", classification_report(y_test, y_pred_best_knn))"
      ],
      "metadata": {
        "colab": {
          "base_uri": "https://localhost:8080/"
        },
        "id": "GeXS3NtHAqtm",
        "outputId": "ba98fac7-09a0-4cf9-da5e-39a63f7c8534"
      },
      "execution_count": 45,
      "outputs": [
        {
          "output_type": "stream",
          "name": "stdout",
          "text": [
            "\n",
            "Best Hyperparameters KNN: {'metric': 'manhattan', 'n_neighbors': 9, 'weights': 'distance'}\n",
            "Best Accuracy KNN: 0.9769602530293457\n",
            "\n",
            "=== KNN (Tuned) ===\n",
            "Akurasi: 0.9807412673280124\n",
            "F1-Score: 0.980671532210446\n",
            "Classification Report:\n",
            "               precision    recall  f1-score   support\n",
            "\n",
            "           0       0.99      0.97      0.98      3683\n",
            "           1       0.99      0.96      0.97      3314\n",
            "           2       0.98      0.99      0.98      6126\n",
            "           3       0.97      1.00      0.99      9993\n",
            "           4       0.98      0.98      0.98      5677\n",
            "           5       0.99      0.93      0.96      2154\n",
            "\n",
            "    accuracy                           0.98     30947\n",
            "   macro avg       0.98      0.97      0.98     30947\n",
            "weighted avg       0.98      0.98      0.98     30947\n",
            "\n"
          ]
        }
      ]
    },
    {
      "cell_type": "markdown",
      "source": [
        "## **d. Evaluasi Model Klasifikasi setelah Tuning (Optional)**"
      ],
      "metadata": {
        "id": "hE7pqlEPEYzI"
      }
    },
    {
      "cell_type": "markdown",
      "source": [
        "Berikut adalah rekomendasi tahapannya.\n",
        "1. Gunakan model dengan hyperparameter terbaik.\n",
        "2. Hitung ulang metrik evaluasi untuk melihat apakah ada peningkatan performa."
      ],
      "metadata": {
        "id": "feaPESoeN0zz"
      }
    },
    {
      "cell_type": "code",
      "source": [
        "# Evaluasi model KNN setelah tunning\n",
        "print(\"\\n=== KNN (Tuned) ===\")\n",
        "print(\"Akurasi:\", accuracy_score(y_test, y_pred_best_knn))\n",
        "print(\"F1 score :\", f1_score(y_test, y_pred_best_knn, average=\"weighted\"))\n",
        "print(\"classificaton report :\", classification_report(y_test, y_pred_best_knn))\n",
        "\n"
      ],
      "metadata": {
        "colab": {
          "base_uri": "https://localhost:8080/"
        },
        "id": "cZvlG6uvBxht",
        "outputId": "d7f1a56f-3947-410f-b8c8-39b08b5d8e00"
      },
      "execution_count": 46,
      "outputs": [
        {
          "output_type": "stream",
          "name": "stdout",
          "text": [
            "\n",
            "=== KNN (Tuned) ===\n",
            "Akurasi: 0.9807412673280124\n",
            "F1 score : 0.980671532210446\n",
            "classificaton report :               precision    recall  f1-score   support\n",
            "\n",
            "           0       0.99      0.97      0.98      3683\n",
            "           1       0.99      0.96      0.97      3314\n",
            "           2       0.98      0.99      0.98      6126\n",
            "           3       0.97      1.00      0.99      9993\n",
            "           4       0.98      0.98      0.98      5677\n",
            "           5       0.99      0.93      0.96      2154\n",
            "\n",
            "    accuracy                           0.98     30947\n",
            "   macro avg       0.98      0.97      0.98     30947\n",
            "weighted avg       0.98      0.98      0.98     30947\n",
            "\n"
          ]
        }
      ]
    },
    {
      "cell_type": "markdown",
      "source": [
        "# **5. Analisis Hasil Evaluasi Model Klasifikasi**"
      ],
      "metadata": {
        "id": "ZRsOdm4uEgAW"
      }
    },
    {
      "cell_type": "code",
      "source": [
        "print(\"Perbandingan Hasil Evaluasi Sebelum dan Sesudah Tuning:\")\n",
        "print(\"Decision Tree:\")\n",
        "print(\" - Akurasi Sebelum Tuning:\", accuracy_score(y_test, y_pred_dt))\n",
        "print(\" - Decisson Tree tidak perlu di tunning karena sudah sempurna\")\n",
        "\n",
        "print(\"K-Nearest Neighbors (KNN):\")\n",
        "print(\" - Akurasi Sebelum Tuning:\", accuracy_score(y_test, y_pred_knn))\n",
        "print(\" - Akurasi Sesudah Tuning:\", accuracy_score(y_test, y_pred_best_knn))\n"
      ],
      "metadata": {
        "colab": {
          "base_uri": "https://localhost:8080/"
        },
        "id": "c5fAlbiaPI9H",
        "outputId": "4613f179-e4ec-410b-c6cc-d43315d2c867"
      },
      "execution_count": 47,
      "outputs": [
        {
          "output_type": "stream",
          "name": "stdout",
          "text": [
            "Perbandingan Hasil Evaluasi Sebelum dan Sesudah Tuning:\n",
            "Decision Tree:\n",
            " - Akurasi Sebelum Tuning: 1.0\n",
            " - Decisson Tree tidak perlu di tunning karena sudah sempurna\n",
            "K-Nearest Neighbors (KNN):\n",
            " - Akurasi Sebelum Tuning: 0.9491711636022878\n",
            " - Akurasi Sesudah Tuning: 0.9807412673280124\n"
          ]
        }
      ]
    },
    {
      "cell_type": "markdown",
      "source": [
        "---\n",
        " **1. Perbandingan Hasil Evaluasi Sebelum dan Sesudah Tuning:**\n",
        "\n",
        "Decision Tree:\n",
        " - Akurasi Sebelum Tuning: 1.0\n",
        "Decisson Tree tidak perlu di tunning karena sudah sempurna\n",
        "K-Nearest Neighbors (KNN):\n",
        " - Akurasi Sebelum Tuning: 0.9491711636022878\n",
        " - Akurasi Sesudah Tuning: 0.9807412673280124\n",
        "\n",
        "---\n",
        "\n",
        " **2. Identifikasi Kelemahan Model**  \n",
        " **Decision Tree (DT)**  \n",
        "**Hasil Evaluasi:**  \n",
        "- Akurasi: 1.0 (100%)  \n",
        "- Precision, Recall, dan F1-score: 1.0 untuk semua kelas  \n",
        "- Confusion Matrix sempurna, tidak ada kesalahan klasifikasi  \n",
        "\n",
        "**Kemungkinan Masalah:**  \n",
        "- Model mengalami **overfitting**, kemungkinan besar hanya menghafal data tanpa mampu mengenali pola baru.  \n",
        "- Kurangnya variasi dalam data, jika diuji pada dataset baru, akurasinya bisa turun drastis.  \n",
        "- Tidak ada kesalahan klasifikasi, indikasi bahwa model terlalu kompleks untuk dataset ini.  \n",
        "\n",
        "---\n",
        "\n",
        " **K-Nearest Neighbors (KNN)**  \n",
        "**Hasil Evaluasi:**  \n",
        "- Akurasi: 98.07%  \n",
        "- Precision dan Recall sedikit lebih rendah dibandingkan Decision Tree, tetapi lebih realistis.  \n",
        "- Confusion Matrix menunjukkan beberapa kesalahan, terutama pada kelas 5 (Recall = 93%), yang berarti model agak kesulitan mengklasifikasikan kelas ini.  \n",
        "\n",
        "**Kemungkinan Masalah:**  \n",
        "- Model lebih baik daripada Decision Tree dalam hal generalisasi karena akurasi tidak mencapai 100%.  \n",
        "- Beberapa kesalahan klasifikasi kecil, tetapi masih dalam batas wajar.  \n",
        "- Performa cukup stabil dan kemungkinan tidak terlalu overfitting, tetapi perlu diuji lebih lanjut dengan dataset baru.  \n",
        "\n",
        "---\n",
        "\n",
        " **3. Rekomendasi Perbaikan dan Tindakan Lanjutan**  \n",
        " **Decision Tree**  \n",
        "**Langkah Perbaikan:**  \n",
        "- Mengurangi overfitting dengan **pruning model** menggunakan `max_depth`, `min_samples_split`, atau `min_samples_leaf`.  \n",
        "- Mencoba model yang lebih mampu melakukan generalisasi, seperti **Random Forest** atau **Gradient Boosting**.  \n",
        "- Melakukan **cross-validation** untuk menghindari overfitting.  \n",
        "- Menguji model dengan data baru atau unseen data untuk memastikan model tidak hanya menghafal pola dari data latih.  \n",
        "\n",
        "---\n",
        "\n",
        " **K-Nearest Neighbors (KNN)**  \n",
        "**Langkah Perbaikan:**  \n",
        "- Mengatasi kesalahan klasifikasi pada kelas 5 dengan **menyeimbangkan dataset**, misalnya menggunakan teknik **oversampling (SMOTE)** atau menambah fitur yang lebih representatif.  \n",
        "- Mengoptimalkan hyperparameter dengan mencoba:  \n",
        "  - `weights='distance'` untuk memberikan bobot lebih besar pada tetangga yang lebih dekat.  \n",
        "  - Menggunakan metrik selain **Euclidean**, seperti **Minkowski** atau **Manhattan**.  \n",
        "- Menggunakan data baru untuk validasi, memastikan model diuji dengan data yang tidak pernah dilihat sebelumnya.  \n",
        "\n",
        "---\n"
      ],
      "metadata": {
        "id": "yy3u10OvNtJB"
      }
    },
    {
      "cell_type": "code",
      "source": [],
      "metadata": {
        "id": "e8yxET-UN3r7"
      },
      "execution_count": 47,
      "outputs": []
    }
  ]
}